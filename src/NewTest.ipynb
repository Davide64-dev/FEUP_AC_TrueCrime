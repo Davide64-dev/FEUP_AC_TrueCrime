{
 "cells": [
  {
   "cell_type": "code",
   "id": "initial_id",
   "metadata": {
    "collapsed": true,
    "ExecuteTime": {
     "end_time": "2024-11-24T21:33:41.745112Z",
     "start_time": "2024-11-24T21:33:41.717362Z"
    }
   },
   "source": [
    "import pandas as pd\n",
    "from sklearn.tree import DecisionTreeClassifier\n",
    "from sklearn.metrics import accuracy_score, classification_report\n",
    "from sklearn.preprocessing import StandardScaler\n",
    "from sklearn.ensemble import RandomForestClassifier\n",
    "from sklearn.ensemble import GradientBoostingClassifier\n",
    "from sklearn.linear_model import LogisticRegression\n",
    "\n",
    "# Load the datasets\n",
    "awards_players_df = pd.read_csv('../dataset/awards_players.csv')\n",
    "coaches_df = pd.read_csv('../dataset/coaches.csv')\n",
    "players_df = pd.read_csv('../dataset/players.csv')\n",
    "players_teams_df = pd.read_csv('../dataset/players_teams.csv')\n",
    "series_post_df = pd.read_csv('../dataset/series_post.csv')\n",
    "teams_df = pd.read_csv('../dataset/teams.csv')\n",
    "teams_post_df = pd.read_csv('../dataset/teams_post.csv')\n",
    "\n",
    "# Remove useless columns from the datasets\n",
    "awards_players_df = awards_players_df.drop(columns=['lgID'])\n",
    "players_df = players_df.drop(columns=['firstseason', 'lastseason', 'deathDate'])\n",
    "coaches_df = coaches_df.drop(columns=['lgID'])\n",
    "series_post_df = series_post_df.drop(columns=['lgIDLoser', 'lgIDWinner'])\n",
    "teams_post_df = teams_post_df.drop(columns=['lgID'])\n",
    "teams_df = teams_df.drop(\n",
    "    columns=['lgID', 'divID', 'seeded', 'tmORB', 'tmDRB', 'tmTRB', 'opptmORB', 'opptmDRB', 'opptmTRB'])\n",
    "players_teams_df = players_teams_df.drop(columns=['lgID'])"
   ],
   "outputs": [],
   "execution_count": 31
  },
  {
   "metadata": {
    "ExecuteTime": {
     "end_time": "2024-11-24T21:33:41.802556Z",
     "start_time": "2024-11-24T21:33:41.796151Z"
    }
   },
   "cell_type": "code",
   "source": [
    "# Merge players, teams, and awards data\n",
    "players_teams_merged = pd.merge(players_df, players_teams_df, left_on='bioID', right_on='playerID')\n",
    "players_teams_awards = pd.merge(players_teams_merged, awards_players_df, on=['year', 'playerID'], how='left')\n",
    "\n",
    "#remove pos, height, weight, college, collegeOther, birthDate, playerID, GP and GS\n",
    "players_teams_awards = players_teams_awards.drop(\n",
    "    columns=['pos', 'height', 'weight', 'college', 'collegeOther', 'birthDate', 'playerID', 'GP', 'GS', 'PostGP', 'PostGS'])\n"
   ],
   "id": "80171f90bfca7281",
   "outputs": [],
   "execution_count": 32
  },
  {
   "metadata": {
    "ExecuteTime": {
     "end_time": "2024-11-24T21:33:41.849396Z",
     "start_time": "2024-11-24T21:33:41.838587Z"
    }
   },
   "cell_type": "code",
   "source": [
    "# Define award scores\n",
    "award_scores = {\n",
    "    'All-Star Game Most Valuable Player': 7,\n",
    "    'Coach of the Year': 10,\n",
    "    'Defensive Player of the Year': 7,\n",
    "    'Kim Perrot Sportsmanship Award': 0,\n",
    "    'Most Improved Player': 5,\n",
    "    'Most Valuable Player': 10,\n",
    "    'Rookie of the Year': 5,\n",
    "    'Sixth Woman of the Year': 6,\n",
    "    'WNBA Finals Most Valuable Player': 8,\n",
    "    'WNBA All-Decade Team': 6,\n",
    "    'WNBA All Decade Team Honorable Mention': 4\n",
    "}\n",
    "\n",
    "# Map the award scores to the dataframe\n",
    "players_teams_awards['award_score'] = players_teams_awards['award'].map(award_scores).fillna(0)\n",
    "\n",
    "# drop award column\n",
    "players_teams_awards = players_teams_awards.drop(columns=['award'])\n",
    "\n",
    "# List of columns to group by (excluding 'award_score')\n",
    "columns_to_group_by = ['bioID', 'year', 'stint']\n",
    "\n",
    "# Group by the columns and aggregate\n",
    "players_teams_awards = players_teams_awards.groupby(columns_to_group_by).agg({\n",
    "    'award_score': 'sum',  # Sum award scores\n",
    "    **{col: 'first' for col in players_teams_awards.columns if col not in columns_to_group_by + ['award_score']}\n",
    "}).reset_index()"
   ],
   "id": "7d44721cf4b465d2",
   "outputs": [],
   "execution_count": 33
  },
  {
   "metadata": {
    "ExecuteTime": {
     "end_time": "2024-11-24T21:33:41.954347Z",
     "start_time": "2024-11-24T21:33:41.887192Z"
    }
   },
   "cell_type": "code",
   "source": [
    "# Define coefficients for player statistics\n",
    "coefficients = {\n",
    "    'minutes': 0.2,\n",
    "    'points': 0.45,\n",
    "    'oRebounds': 0.1,\n",
    "    'dRebounds': 0.1,\n",
    "    'rebounds': 0.15,\n",
    "    'assists': 0.25,\n",
    "    'steals': 0.2,\n",
    "    'blocks': 0.35,\n",
    "    'turnovers': -0.3,  # Negative coefficient for turnovers\n",
    "    'PF': 0.1,\n",
    "    'fgAttempted': 0.05,\n",
    "    'fgMade': 0.1,\n",
    "    'ftAttempted': 0.1,\n",
    "    'ftMade': 0.2,\n",
    "    'threeAttempted': 0.15,\n",
    "    'threeMade': 0.25,\n",
    "    'dq': -0.4  # Negative coefficient for dq\n",
    "}\n",
    "\n",
    "# List of columns to be used in the weighted sum calculation\n",
    "columns_to_use = list(coefficients.keys())\n",
    "\n",
    "\n",
    "# Function to calculate the weighted sum based on coefficients\n",
    "def calculate_weighted_sum(row):\n",
    "    total = 0\n",
    "    for col in columns_to_use:\n",
    "        total += row[col] * coefficients[col]\n",
    "    return total\n",
    "\n",
    "\n",
    "# Apply the function to calculate the weighted sum and store it in a new column\n",
    "players_teams_awards['weighted_score'] = players_teams_awards.apply(calculate_weighted_sum, axis=1)\n",
    "\n",
    "# Define coefficients for post-season statistics\n",
    "post_coefficients = {\n",
    "    'PostMinutes': 0.2,\n",
    "    'PostPoints': 0.45,\n",
    "    'PostoRebounds': 0.1,\n",
    "    'PostdRebounds': 0.1,\n",
    "    'PostRebounds': 0.15,\n",
    "    'PostAssists': 0.25,\n",
    "    'PostSteals': 0.2,\n",
    "    'PostBlocks': 0.35,\n",
    "    'PostTurnovers': -0.3,  # Negative coefficient for turnovers\n",
    "    'PostPF': 0.1,\n",
    "    'PostfgAttempted': 0.05,\n",
    "    'PostfgMade': 0.1,\n",
    "    'PostftAttempted': 0.1,\n",
    "    'PostftMade': 0.2,\n",
    "    'PostthreeAttempted': 0.15,\n",
    "    'PostthreeMade': 0.25,\n",
    "    'PostDQ': -0.4  # Negative coefficient for dq\n",
    "}\n",
    "\n",
    "# List of 'Post' columns to be used in the weighted sum calculation\n",
    "post_columns_to_use = list(post_coefficients.keys())\n",
    "\n",
    "\n",
    "# Function to calculate the weighted sum based on 'Post' coefficients\n",
    "def calculate_post_weighted_sum(row):\n",
    "    total = 0\n",
    "    for col in post_columns_to_use:\n",
    "        total += row[col] * post_coefficients[col]\n",
    "    return total\n",
    "\n",
    "\n",
    "# Apply the function to calculate the post-season weighted sum and store it in a new column\n",
    "players_teams_awards['post_weighted_score'] = players_teams_awards.apply(calculate_post_weighted_sum, axis=1)\n",
    "\n",
    "# Remove the individual columns used in the calculation\n",
    "players_teams_awards.drop(columns=columns_to_use, inplace=True)\n",
    "\n",
    "# Remove the individual 'Post' columns used in the calculation\n",
    "players_teams_awards.drop(columns=post_columns_to_use, inplace=True)"
   ],
   "id": "e83510449d90487e",
   "outputs": [],
   "execution_count": 34
  },
  {
   "metadata": {
    "ExecuteTime": {
     "end_time": "2024-11-24T21:33:41.974811Z",
     "start_time": "2024-11-24T21:33:41.972086Z"
    }
   },
   "cell_type": "code",
   "source": [
    "# create a clean_teams df that only has year, tmID, franchID, and playoff, and map Y to 1 and N to 0 in playoff\n",
    "clean_teams = teams_df[['year', 'tmID', 'franchID', 'playoff']].copy()\n",
    "clean_teams['playoff'] = clean_teams['playoff'].map({'Y': 1, 'N': 0})"
   ],
   "id": "f7ffcfbbe5d0ff68",
   "outputs": [],
   "execution_count": 35
  },
  {
   "metadata": {
    "ExecuteTime": {
     "end_time": "2024-11-24T21:33:42.022056Z",
     "start_time": "2024-11-24T21:33:42.015457Z"
    }
   },
   "cell_type": "code",
   "source": [
    "# look at tmID to calculate the columns of the team statistics when merging with players_teams_awards, but look at the franchID to compare the rolling average of the team statistics\n",
    "\n",
    "# Merge players_teams_awards with clean_teams on year and tmID\n",
    "merged_df = pd.merge(clean_teams, players_teams_awards, on=['year', 'tmID'], how='left')\n",
    "\n",
    "# Group by year and tmID in clean_teams and calculate the sum for score columns\n",
    "teams_with_scores = merged_df.groupby(['year', 'tmID'], as_index=False).agg({\n",
    "    'franchID': 'first',           # Keep the first franchID\n",
    "    'playoff': 'first',            # Keep the first playoff value\n",
    "    'award_score': 'sum',          # Sum award_score\n",
    "    'weighted_score': 'sum',       # Sum weighted_score\n",
    "    'post_weighted_score': 'sum'   # Sum post_weighted_score\n",
    "})"
   ],
   "id": "3d28c5a4e0e85201",
   "outputs": [],
   "execution_count": 36
  },
  {
   "metadata": {
    "ExecuteTime": {
     "end_time": "2024-11-24T21:33:42.077050Z",
     "start_time": "2024-11-24T21:33:42.061480Z"
    }
   },
   "cell_type": "code",
   "source": [
    "# Add a sliding window for past 3 years' aggregated statistics\n",
    "def calculate_rolling_features(df, columns, window=3):\n",
    "    \"\"\"\n",
    "    Calculates rolling sum features for the given columns in the dataframe.\n",
    "\n",
    "    Args:\n",
    "        df (pd.DataFrame): Input dataframe.\n",
    "        columns (list of str): List of column names to calculate rolling features for.\n",
    "        window (int): Rolling window size. Default is 3.\n",
    "\n",
    "    Returns:\n",
    "        pd.DataFrame: Dataframe with added rolling features.\n",
    "    \"\"\"\n",
    "    rolling_df = df.sort_values(['franchID', 'year']).copy()\n",
    "    for col in columns:\n",
    "        rolling_col_name = f'{col}_rolling_{window}'\n",
    "        rolling_df[rolling_col_name] = (\n",
    "            rolling_df.groupby('franchID')[col]\n",
    "            .apply(lambda x: x.shift(1).rolling(window=window, min_periods=1).sum())\n",
    "            .reset_index(level=0, drop=True)  # Align index with rolling_df\n",
    "        )\n",
    "    return rolling_df\n",
    "\n",
    "# Columns to calculate rolling features for\n",
    "rolling_columns = ['award_score', 'weighted_score', 'post_weighted_score']\n",
    "\n",
    "# Calculate rolling features for the columns\n",
    "teams_with_rolling_features = calculate_rolling_features(teams_with_scores, rolling_columns)"
   ],
   "id": "4fc50e34ea219524",
   "outputs": [],
   "execution_count": 37
  },
  {
   "metadata": {
    "ExecuteTime": {
     "end_time": "2024-11-24T21:33:42.119743Z",
     "start_time": "2024-11-24T21:33:42.113232Z"
    }
   },
   "cell_type": "code",
   "source": [
    "# Filter data for training and testing\n",
    "train_data = teams_with_rolling_features[\n",
    "    (teams_with_rolling_features['year'] >= 4) & (teams_with_rolling_features['year'] <= 8)\n",
    "    ]\n",
    "test_data = teams_with_rolling_features[teams_with_rolling_features['year'] == 9]\n",
    "\n",
    "# Define features and target variable\n",
    "rolling_features = [f'{col}_rolling_3' for col in rolling_columns]\n",
    "\n",
    "X_train = train_data[rolling_features]\n",
    "y_train = train_data['playoff']\n",
    "\n",
    "X_test = test_data[rolling_features]\n",
    "y_test = test_data['playoff']\n",
    "\n",
    "# Standardize the features\n",
    "scaler = StandardScaler()\n",
    "X_train_scaled = scaler.fit_transform(X_train)\n",
    "X_test_scaled = scaler.transform(X_test)\n",
    "\n",
    "# Handle any NaN values (if necessary)\n",
    "X_train = X_train.fillna(0)\n",
    "X_test = X_test.fillna(0)"
   ],
   "id": "3d67736bad516c3e",
   "outputs": [],
   "execution_count": 38
  },
  {
   "metadata": {
    "ExecuteTime": {
     "end_time": "2024-11-24T21:33:42.274605Z",
     "start_time": "2024-11-24T21:33:42.163584Z"
    }
   },
   "cell_type": "code",
   "source": [
    "# Train a Random Forest Classifier\n",
    "clf = RandomForestClassifier(random_state=42)\n",
    "clf.fit(X_train, y_train)\n",
    "\n",
    "# Make predictions\n",
    "y_pred = clf.predict(X_test)\n",
    "\n",
    "# Evaluate the model\n",
    "print(\"Classification Report Random Forest:\")\n",
    "print(classification_report(y_test, y_pred))\n",
    "print(\"Accuracy Score:\", accuracy_score(y_test, y_pred))\n",
    "\n",
    "# Train a Decision Tree Classifier\n",
    "clf2 = DecisionTreeClassifier(random_state=42)\n",
    "clf2.fit(X_train, y_train)\n",
    "\n",
    "# Make predictions\n",
    "y_pred2 = clf2.predict(X_test)\n",
    "\n",
    "# Evaluate the model\n",
    "print(\"Classification Report Decision Tree:\")\n",
    "print(classification_report(y_test, y_pred2))\n",
    "print(\"Accuracy Score:\", accuracy_score(y_test, y_pred2))\n",
    "\n",
    "# Train a gradient boosting classifier\n",
    "clf3 = GradientBoostingClassifier(random_state=42)\n",
    "clf3.fit(X_train, y_train)\n",
    "\n",
    "# Make predictions\n",
    "y_pred3 = clf3.predict(X_test)\n",
    "\n",
    "# Evaluate the model\n",
    "print(\"Classification Report Gradient Boosting:\")\n",
    "print(classification_report(y_test, y_pred3))\n",
    "print(\"Accuracy Score:\", accuracy_score(y_test, y_pred3))\n",
    "\n",
    "# Train a logistic regression classifier\n",
    "clf4 = LogisticRegression(random_state=42)\n",
    "clf4.fit(X_train, y_train)\n",
    "\n",
    "# Make predictions\n",
    "y_pred4 = clf4.predict(X_test)\n",
    "\n",
    "# Evaluate the model\n",
    "print(\"Classification Report Logistic Regression:\")\n",
    "print(classification_report(y_test, y_pred4))\n",
    "print(\"Accuracy Score:\", accuracy_score(y_test, y_pred4))"
   ],
   "id": "61e2969eaf87194b",
   "outputs": [
    {
     "name": "stdout",
     "output_type": "stream",
     "text": [
      "Classification Report Random Forest:\n",
      "              precision    recall  f1-score   support\n",
      "\n",
      "           0       0.75      0.50      0.60         6\n",
      "           1       0.70      0.88      0.78         8\n",
      "\n",
      "    accuracy                           0.71        14\n",
      "   macro avg       0.72      0.69      0.69        14\n",
      "weighted avg       0.72      0.71      0.70        14\n",
      "\n",
      "Accuracy Score: 0.7142857142857143\n",
      "Classification Report Decision Tree:\n",
      "              precision    recall  f1-score   support\n",
      "\n",
      "           0       0.80      0.67      0.73         6\n",
      "           1       0.78      0.88      0.82         8\n",
      "\n",
      "    accuracy                           0.79        14\n",
      "   macro avg       0.79      0.77      0.78        14\n",
      "weighted avg       0.79      0.79      0.78        14\n",
      "\n",
      "Accuracy Score: 0.7857142857142857\n",
      "Classification Report Gradient Boosting:\n",
      "              precision    recall  f1-score   support\n",
      "\n",
      "           0       0.80      0.67      0.73         6\n",
      "           1       0.78      0.88      0.82         8\n",
      "\n",
      "    accuracy                           0.79        14\n",
      "   macro avg       0.79      0.77      0.78        14\n",
      "weighted avg       0.79      0.79      0.78        14\n",
      "\n",
      "Accuracy Score: 0.7857142857142857\n",
      "Classification Report Logistic Regression:\n",
      "              precision    recall  f1-score   support\n",
      "\n",
      "           0       0.75      0.50      0.60         6\n",
      "           1       0.70      0.88      0.78         8\n",
      "\n",
      "    accuracy                           0.71        14\n",
      "   macro avg       0.72      0.69      0.69        14\n",
      "weighted avg       0.72      0.71      0.70        14\n",
      "\n",
      "Accuracy Score: 0.7142857142857143\n"
     ]
    }
   ],
   "execution_count": 39
  }
 ],
 "metadata": {
  "kernelspec": {
   "display_name": "Python 3",
   "language": "python",
   "name": "python3"
  },
  "language_info": {
   "codemirror_mode": {
    "name": "ipython",
    "version": 2
   },
   "file_extension": ".py",
   "mimetype": "text/x-python",
   "name": "python",
   "nbconvert_exporter": "python",
   "pygments_lexer": "ipython2",
   "version": "2.7.6"
  }
 },
 "nbformat": 4,
 "nbformat_minor": 5
}
