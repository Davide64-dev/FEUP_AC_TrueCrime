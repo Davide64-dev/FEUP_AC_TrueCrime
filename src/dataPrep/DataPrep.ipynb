{
 "cells": [
  {
   "cell_type": "code",
   "execution_count": 4,
   "id": "3cb9ff71-0f29-4165-9087-e1ee0f68a4a1",
   "metadata": {
    "ExecuteTime": {
     "end_time": "2024-09-23T16:24:20.763146Z",
     "start_time": "2024-09-23T16:24:20.367263Z"
    }
   },
   "outputs": [],
   "source": [
    "import pandas as pd\n",
    "from sklearn.tree import DecisionTreeClassifier\n",
    "from sklearn.metrics import accuracy_score, classification_report"
   ]
  },
  {
   "cell_type": "code",
   "execution_count": 5,
   "id": "6c7245ee-e97f-4b71-b7ab-d46c0084a1ad",
   "metadata": {
    "ExecuteTime": {
     "end_time": "2024-09-23T16:26:12.485194Z",
     "start_time": "2024-09-23T16:26:12.404996Z"
    }
   },
   "outputs": [
    {
     "name": "stdout",
     "output_type": "stream",
     "text": [
      "Accuracy: 0.4444444444444444\n",
      "Classification Report:\n",
      "               precision    recall  f1-score   support\n",
      "\n",
      "         0.0       0.36      0.45      0.40        11\n",
      "         1.0       0.54      0.44      0.48        16\n",
      "\n",
      "    accuracy                           0.44        27\n",
      "   macro avg       0.45      0.45      0.44        27\n",
      "weighted avg       0.46      0.44      0.45        27\n",
      "\n"
     ]
    }
   ],
   "source": [
    "# Load the datasets\n",
    "awards_players_df = pd.read_csv('../../dataset/awards_players.csv')\n",
    "coaches_df = pd.read_csv('../../dataset/coaches.csv')\n",
    "players_df = pd.read_csv('../../dataset/players.csv')\n",
    "players_teams_df = pd.read_csv('../../dataset/players_teams.csv')\n",
    "series_post_df = pd.read_csv('../../dataset/series_post.csv')\n",
    "teams_df = pd.read_csv('../../dataset/teams.csv')\n",
    "teams_post_df = pd.read_csv('../../dataset/teams_post.csv')\n",
    "\n",
    "# Remove useless columns from the datasets\n",
    "awards_players_df = awards_players_df.drop(columns=['lgID'])\n",
    "players_df = players_df.drop(columns=['firstseason', 'lastseason', 'deathDate'])\n",
    "coaches_df = coaches_df.drop(columns=['lgID'])\n",
    "series_post_df = series_post_df.drop(columns=['lgIDLoser', 'lgIDWinner'])\n",
    "teams_post_df = teams_post_df.drop(columns=['lgID'])\n",
    "teams_df = teams_df.drop(columns=['lgID', 'divID', 'seeded', 'tmORB', 'tmDRB', 'tmTRB', 'opptmORB', 'opptmDRB', 'opptmTRB'])\n",
    "players_teams_df = players_teams_df.drop(columns=['lgID'])\n",
    "\n",
    "# Display the first few rows of each cleaned DataFrame (optional)\n",
    "#print(awards_players_df.head())\n",
    "#print(players_df.head())\n",
    "#print(coaches_df.head())\n",
    "#print(series_post_df.head())\n",
    "#print(teams_post_df.head())\n",
    "#print(teams_df.head())\n",
    "#print(players_teams_df.head())\n",
    "\n",
    "# Merge datasets\n",
    "players_teams_merged = pd.merge(players_df, players_teams_df, left_on='bioID', right_on='playerID')\n",
    "\n",
    "team_player_stats = players_teams_merged.groupby('tmID').agg({\n",
    "    'points': 'mean',\n",
    "    'assists': 'mean',\n",
    "    'rebounds': 'mean'\n",
    "}).reset_index()\n",
    "\n",
    "\n",
    "teams_df = teams_df.sort_values(['tmID', 'year'])\n",
    "teams_df['playoffNextYear'] = teams_df['playoff'].shift(-1)\n",
    "teams_df.loc[teams_df['franchID'] != teams_df['franchID'].shift(-1), 'playoffNextYear'] = None\n",
    "teams_df['playoffNextYear'] = teams_df['playoffNextYear'].map({'Y': 1, 'N': 0})\n",
    "teams_df['playoffNextYear'] = teams_df['playoffNextYear'].fillna(0)\n",
    "\n",
    "teams_full = pd.merge(teams_df, team_player_stats, on='tmID')\n",
    "\n",
    "features = ['points', 'assists', 'rebounds']\n",
    "target = 'playoffNextYear'\n",
    "\n",
    "train_data = teams_full[teams_full['year'] < 5]\n",
    "test_data = teams_full[teams_full['year'].isin([6,7])]\n",
    "\n",
    "X_train = train_data[features]\n",
    "y_train = train_data[target]\n",
    "X_test = test_data[features]\n",
    "y_test = test_data[target]\n",
    "\n",
    "model = DecisionTreeClassifier()\n",
    "model.fit(X_train, y_train)\n",
    "\n",
    "y_pred = model.predict(X_test)\n",
    "accuracy = accuracy_score(y_test, y_pred)\n",
    "report = classification_report(y_test, y_pred)\n",
    "\n",
    "print(f'Accuracy: {accuracy}')\n",
    "print('Classification Report:\\n', report)"
   ]
  }
 ],
 "metadata": {
  "kernelspec": {
   "display_name": "Python 3 (ipykernel)",
   "language": "python",
   "name": "python3"
  },
  "language_info": {
   "codemirror_mode": {
    "name": "ipython",
    "version": 3
   },
   "file_extension": ".py",
   "mimetype": "text/x-python",
   "name": "python",
   "nbconvert_exporter": "python",
   "pygments_lexer": "ipython3",
   "version": "3.12.0"
  }
 },
 "nbformat": 4,
 "nbformat_minor": 5
}
