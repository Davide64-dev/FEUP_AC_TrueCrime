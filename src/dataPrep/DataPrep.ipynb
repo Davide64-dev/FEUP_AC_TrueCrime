{
 "cells": [
  {
   "cell_type": "code",
   "id": "3cb9ff71-0f29-4165-9087-e1ee0f68a4a1",
   "metadata": {
    "ExecuteTime": {
     "end_time": "2024-09-23T16:24:20.763146Z",
     "start_time": "2024-09-23T16:24:20.367263Z"
    }
   },
   "source": [
    "import pandas as pd"
   ],
   "outputs": [],
   "execution_count": 2
  },
  {
   "cell_type": "code",
   "id": "6c7245ee-e97f-4b71-b7ab-d46c0084a1ad",
   "metadata": {
    "ExecuteTime": {
     "end_time": "2024-09-23T16:26:12.485194Z",
     "start_time": "2024-09-23T16:26:12.404996Z"
    }
   },
   "source": [
    "# Load the datasets\n",
    "awards_players_df = pd.read_csv('../../dataset/awards_players.csv')\n",
    "coaches_df = pd.read_csv('../../dataset/coaches.csv')\n",
    "players_df = pd.read_csv('../../dataset/players.csv')\n",
    "players_teams_df = pd.read_csv('../../dataset/players_teams.csv')\n",
    "series_post_df = pd.read_csv('../../dataset/series_post.csv')\n",
    "teams_df = pd.read_csv('../../dataset/teams.csv')\n",
    "teams_post_df = pd.read_csv('../../dataset/teams_post.csv')\n",
    "\n",
    "# Remove useless columns from the datasets\n",
    "awards_players_df = awards_players_df.drop(columns=['lgID'])\n",
    "players_df = players_df.drop(columns=['firstseason', 'lastseason', 'deathDate'])\n",
    "coaches_df = coaches_df.drop(columns=['lgID'])\n",
    "series_post_df = series_post_df.drop(columns=['lgIDLoser', 'lgIDWinner'])\n",
    "teams_post_df = teams_post_df.drop(columns=['lgID'])\n",
    "teams_df = teams_df.drop(columns=['lgID', 'divID', 'seeded', 'tmORB', 'tmDRB', 'tmTRB', 'opptmORB', 'opptmDRB', 'opptmTRB'])\n",
    "players_teams_df = players_teams_df.drop(columns=['lgID'])\n",
    "\n",
    "# Display the first few rows of each cleaned DataFrame (optional)\n",
    "print(awards_players_df.head())\n",
    "print(players_df.head())\n",
    "print(coaches_df.head())\n",
    "print(series_post_df.head())\n",
    "print(teams_post_df.head())\n",
    "print(teams_df.head())\n",
    "print(players_teams_df.head())\n"
   ],
   "outputs": [
    {
     "name": "stdout",
     "output_type": "stream",
     "text": [
      "     playerID                               award  year\n",
      "0  thompti01w  All-Star Game Most Valuable Player     1\n",
      "1  leslili01w  All-Star Game Most Valuable Player     2\n",
      "2  leslili01w  All-Star Game Most Valuable Player     3\n",
      "3  teaslni01w  All-Star Game Most Valuable Player     4\n",
      "4  swoopsh01w  All-Star Game Most Valuable Player     6\n",
      "        bioID  pos  height  weight            college            collegeOther  \\\n",
      "0  abrahta01w    C    74.0     190  George Washington                     NaN   \n",
      "1  abrossv01w    F    74.0     169        Connecticut                     NaN   \n",
      "2  adairje01w    C    76.0     197  George Washington                     NaN   \n",
      "3  adamsda01w  F-C    73.0     239          Texas A&M  Jefferson College (JC)   \n",
      "4  adamsjo01w    C    75.0     180         New Mexico                     NaN   \n",
      "\n",
      "    birthDate  \n",
      "0  1975-09-27  \n",
      "1  1980-07-09  \n",
      "2  1986-12-19  \n",
      "3  1989-02-19  \n",
      "4  1981-05-24  \n",
      "      coachID  year tmID  stint  won  lost  post_wins  post_losses\n",
      "0  adamsmi01w     5  WAS      0   17    17          1            2\n",
      "1  adubari99w     1  NYL      0   20    12          4            3\n",
      "2  adubari99w     2  NYL      0   21    11          3            3\n",
      "3  adubari99w     3  NYL      0   18    14          4            4\n",
      "4  adubari99w     4  NYL      0   16    18          0            0\n",
      "   year round series tmIDWinner tmIDLoser  W  L\n",
      "0     1    FR      A        CLE       ORL  2  1\n",
      "1     1    FR      B        NYL       WAS  2  0\n",
      "2     1    FR      C        LAS       PHO  2  0\n",
      "3     1    FR      D        HOU       SAC  2  0\n",
      "4     1    CF      E        HOU       LAS  2  0\n",
      "   year tmID  W  L\n",
      "0     1  HOU  6  0\n",
      "1     1  ORL  1  2\n",
      "2     1  CLE  3  3\n",
      "3     1  WAS  0  2\n",
      "4     1  NYL  4  3\n",
      "   year tmID franchID confID  rank playoff firstRound semis finals  \\\n",
      "0     9  ATL      ATL     EA     7       N        NaN   NaN    NaN   \n",
      "1    10  ATL      ATL     EA     2       Y          L   NaN    NaN   \n",
      "2     1  CHA      CHA     EA     8       N        NaN   NaN    NaN   \n",
      "3     2  CHA      CHA     EA     4       Y          W     W      L   \n",
      "4     3  CHA      CHA     EA     2       Y          L   NaN    NaN   \n",
      "\n",
      "              name  ...  GP  homeW  homeL  awayW  awayL  confW  confL   min  \\\n",
      "0    Atlanta Dream  ...  34      1     16      3     14      2     18  6825   \n",
      "1    Atlanta Dream  ...  34     12      5      6     11     10     12  6950   \n",
      "2  Charlotte Sting  ...  32      5     11      3     13      5     16  6475   \n",
      "3  Charlotte Sting  ...  32     11      5      7      9     15      6  6500   \n",
      "4  Charlotte Sting  ...  32     11      5      7      9     12      9  6450   \n",
      "\n",
      "   attend               arena  \n",
      "0  141379       Philips Arena  \n",
      "1  120737       Philips Arena  \n",
      "2   90963  Charlotte Coliseum  \n",
      "3  105525  Charlotte Coliseum  \n",
      "4  106670  Charlotte Coliseum  \n",
      "\n",
      "[5 rows x 52 columns]\n",
      "     playerID  year  stint tmID  GP  GS  minutes  points  oRebounds  \\\n",
      "0  abrossv01w     2      0  MIN  26  23      846     343         43   \n",
      "1  abrossv01w     3      0  MIN  27  27      805     314         45   \n",
      "2  abrossv01w     4      0  MIN  30  25      792     318         44   \n",
      "3  abrossv01w     5      0  MIN  22  11      462     146         17   \n",
      "4  abrossv01w     6      0  MIN  31  31      777     304         29   \n",
      "\n",
      "   dRebounds  ...  PostBlocks  PostTurnovers  PostPF  PostfgAttempted  \\\n",
      "0        131  ...           0              0       0                0   \n",
      "1        101  ...           0              0       0                0   \n",
      "2         97  ...           1              8       8               22   \n",
      "3         57  ...           2              3       7               23   \n",
      "4         78  ...           0              0       0                0   \n",
      "\n",
      "   PostfgMade  PostftAttempted  PostftMade  PostthreeAttempted  PostthreeMade  \\\n",
      "0           0                0           0                   0              0   \n",
      "1           0                0           0                   0              0   \n",
      "2           6                8           8                   7              3   \n",
      "3           8                4           2                   8              2   \n",
      "4           0                0           0                   0              0   \n",
      "\n",
      "   PostDQ  \n",
      "0       0  \n",
      "1       0  \n",
      "2       0  \n",
      "3       0  \n",
      "4       0  \n",
      "\n",
      "[5 rows x 42 columns]\n"
     ]
    }
   ],
   "execution_count": 5
  },
  {
   "cell_type": "code",
   "execution_count": 5,
   "id": "50911f51-98d8-4b93-b212-1585bf9f4ee2",
   "metadata": {},
   "outputs": [
    {
     "name": "stdout",
     "output_type": "stream",
     "text": [
      "     playerID                               award  year  lgID\n",
      "0  thompti01w  All-Star Game Most Valuable Player     1  WNBA\n",
      "1  leslili01w  All-Star Game Most Valuable Player     2  WNBA\n",
      "2  leslili01w  All-Star Game Most Valuable Player     3  WNBA\n",
      "3  teaslni01w  All-Star Game Most Valuable Player     4  WNBA\n",
      "4  swoopsh01w  All-Star Game Most Valuable Player     6  WNBA\n"
     ]
    }
   ],
   "source": "# "
  },
  {
   "cell_type": "code",
   "execution_count": null,
   "id": "9d9a61c7-d608-4eb2-b079-e07345b21145",
   "metadata": {},
   "outputs": [],
   "source": []
  }
 ],
 "metadata": {
  "kernelspec": {
   "display_name": "Python 3 (ipykernel)",
   "language": "python",
   "name": "python3"
  },
  "language_info": {
   "codemirror_mode": {
    "name": "ipython",
    "version": 3
   },
   "file_extension": ".py",
   "mimetype": "text/x-python",
   "name": "python",
   "nbconvert_exporter": "python",
   "pygments_lexer": "ipython3",
   "version": "3.11.7"
  }
 },
 "nbformat": 4,
 "nbformat_minor": 5
}
